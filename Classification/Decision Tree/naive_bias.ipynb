{
 "cells": [
  {
   "cell_type": "code",
   "execution_count": 2,
   "id": "d3ef0083",
   "metadata": {},
   "outputs": [],
   "source": [
    "from sklearn.feature_extraction.text import CountVectorizer\n",
    "from sklearn.naive_bayes import MultinomialNB\n",
    "from sklearn.model_selection import train_test_split\n",
    "from sklearn.metrics import accuracy_score, confusion_matrix, classification_report\n",
    "import seaborn as sns\n",
    "import matplotlib.pyplot as plt\n",
    "\n",
    "\n",
    "docs = [\n",
    "    \"buy cheap Burger\",\n",
    "    \"limited time offer\",\n",
    "    \"earn money fast\",\n",
    "    \"meeting schedule project\",\n",
    "    \"lunch with client\",\n",
    "    \"budget for Q4\"\n",
    "]\n",
    "labels = [\"spam\", \"spam\", \"spam\", \"ham\", \"ham\", \"ham\"]\n"
   ]
  },
  {
   "cell_type": "code",
   "execution_count": null,
   "id": "7990810b",
   "metadata": {},
   "outputs": [],
   "source": [
    "X_train, X_test, y_train, y_test = train_test_split(docs, labels, test_size=0.3, random_state=42)\n",
    "\n",
    "# Step 2: Vectorize text\n",
    "vectorizer = CountVectorizer()\n",
    "X_train_vec = vectorizer.fit_transform(X_train)\n",
    "X_test_vec = vectorizer.transform(X_test)\n",
    "\n",
    "\n",
    "model = MultinomialNB()\n",
    "model.fit(X_train_vec, y_train)\n",
    "\n",
    "y_pred = model.predict(X_test_vec)"
   ]
  },
  {
   "cell_type": "code",
   "execution_count": null,
   "id": "e22ffe8e",
   "metadata": {},
   "outputs": [],
   "source": [
    "# Step 2: Train the Naive Bayes model\n",
    "model = MultinomialNB()\n",
    "model.fit(X_train_vec, labels)\n",
    "\n",
    "# Step 3: Predict new message\n",
    "new_doc = [\"cheap lunch offer\"]\n",
    "X_new = vectorizer.transform(new_doc)\n"
   ]
  },
  {
   "cell_type": "code",
   "execution_count": null,
   "id": "3f68fca1",
   "metadata": {},
   "outputs": [
    {
     "name": "stdout",
     "output_type": "stream",
     "text": [
      "Predicted label: spam\n"
     ]
    }
   ],
   "source": [
    "predicted_label = model.predict(X_new)[0]\n",
    "\n",
    "print(f\"Predicted label: {predicted_label}\")"
   ]
  },
  {
   "cell_type": "code",
   "execution_count": null,
   "id": "e8d46816",
   "metadata": {},
   "outputs": [
    {
     "ename": "",
     "evalue": "",
     "output_type": "error",
     "traceback": [
      "\u001b[1;31mFailed to start the Kernel. \n",
      "\u001b[1;31mUnable to start Kernel 'Python 3.12.10' due to a timeout waiting for the ports to get used. \n",
      "\u001b[1;31mView Jupyter <a href='command:jupyter.viewOutput'>log</a> for further details."
     ]
    }
   ],
   "source": [
    "new_doc2 = [\"My name is John Doe\"]\n",
    "X_new2 = vectorizer.transform(new_doc2)\n",
    "predicted_label2 = model.predict(X_new2)[0]\n",
    "print(f\"Predicted label for new_doc2: {predicted_label2}\")"
   ]
  },
  {
   "cell_type": "code",
   "execution_count": null,
   "id": "fddeeb9b",
   "metadata": {},
   "outputs": [],
   "source": []
  },
  {
   "cell_type": "code",
   "execution_count": null,
   "id": "d1c5060c",
   "metadata": {},
   "outputs": [],
   "source": []
  },
  {
   "cell_type": "code",
   "execution_count": null,
   "id": "125d6ec3",
   "metadata": {},
   "outputs": [],
   "source": []
  }
 ],
 "metadata": {
  "kernelspec": {
   "display_name": "Python 3",
   "language": "python",
   "name": "python3"
  },
  "language_info": {
   "codemirror_mode": {
    "name": "ipython",
    "version": 3
   },
   "file_extension": ".py",
   "mimetype": "text/x-python",
   "name": "python",
   "nbconvert_exporter": "python",
   "pygments_lexer": "ipython3",
   "version": "3.12.10"
  }
 },
 "nbformat": 4,
 "nbformat_minor": 5
}
